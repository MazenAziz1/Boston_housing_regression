{
 "cells": [
  {
   "cell_type": "markdown",
   "id": "dbb13411",
   "metadata": {},
   "source": [
    "# Importing necessary packages"
   ]
  },
  {
   "cell_type": "code",
   "execution_count": 1,
   "id": "73945d2b",
   "metadata": {},
   "outputs": [],
   "source": [
    "import numpy as np\n",
    "import pandas as pd\n",
    "import matplotlib.pyplot as plt\n",
    "import seaborn as sns\n",
    "import tensorflow as tf\n",
    "from tensorflow import keras\n",
    "from tensorflow.keras import layers\n",
    "from sklearn.datasets import load_boston\n",
    "from sklearn import preprocessing\n",
    "from sklearn.model_selection import train_test_split, cross_val_score"
   ]
  },
  {
   "cell_type": "markdown",
   "id": "21ddc83e",
   "metadata": {},
   "source": [
    "# Loading dataset"
   ]
  },
  {
   "cell_type": "code",
   "execution_count": 2,
   "id": "c042239c",
   "metadata": {},
   "outputs": [],
   "source": [
    "boston = load_boston()"
   ]
  },
  {
   "cell_type": "markdown",
   "id": "58097b26",
   "metadata": {},
   "source": [
    "# Data preparation"
   ]
  },
  {
   "cell_type": "code",
   "execution_count": 3,
   "id": "26d66dcb",
   "metadata": {},
   "outputs": [
    {
     "data": {
      "text/html": [
       "<div>\n",
       "<style scoped>\n",
       "    .dataframe tbody tr th:only-of-type {\n",
       "        vertical-align: middle;\n",
       "    }\n",
       "\n",
       "    .dataframe tbody tr th {\n",
       "        vertical-align: top;\n",
       "    }\n",
       "\n",
       "    .dataframe thead th {\n",
       "        text-align: right;\n",
       "    }\n",
       "</style>\n",
       "<table border=\"1\" class=\"dataframe\">\n",
       "  <thead>\n",
       "    <tr style=\"text-align: right;\">\n",
       "      <th></th>\n",
       "      <th>0</th>\n",
       "      <th>1</th>\n",
       "      <th>2</th>\n",
       "      <th>3</th>\n",
       "      <th>4</th>\n",
       "      <th>5</th>\n",
       "      <th>6</th>\n",
       "      <th>7</th>\n",
       "      <th>8</th>\n",
       "      <th>9</th>\n",
       "      <th>10</th>\n",
       "      <th>11</th>\n",
       "      <th>12</th>\n",
       "      <th>price</th>\n",
       "    </tr>\n",
       "  </thead>\n",
       "  <tbody>\n",
       "    <tr>\n",
       "      <th>0</th>\n",
       "      <td>0.00632</td>\n",
       "      <td>18.0</td>\n",
       "      <td>2.31</td>\n",
       "      <td>0.0</td>\n",
       "      <td>0.538</td>\n",
       "      <td>6.575</td>\n",
       "      <td>65.2</td>\n",
       "      <td>4.0900</td>\n",
       "      <td>1.0</td>\n",
       "      <td>296.0</td>\n",
       "      <td>15.3</td>\n",
       "      <td>396.90</td>\n",
       "      <td>4.98</td>\n",
       "      <td>24.0</td>\n",
       "    </tr>\n",
       "    <tr>\n",
       "      <th>1</th>\n",
       "      <td>0.02731</td>\n",
       "      <td>0.0</td>\n",
       "      <td>7.07</td>\n",
       "      <td>0.0</td>\n",
       "      <td>0.469</td>\n",
       "      <td>6.421</td>\n",
       "      <td>78.9</td>\n",
       "      <td>4.9671</td>\n",
       "      <td>2.0</td>\n",
       "      <td>242.0</td>\n",
       "      <td>17.8</td>\n",
       "      <td>396.90</td>\n",
       "      <td>9.14</td>\n",
       "      <td>21.6</td>\n",
       "    </tr>\n",
       "    <tr>\n",
       "      <th>2</th>\n",
       "      <td>0.02729</td>\n",
       "      <td>0.0</td>\n",
       "      <td>7.07</td>\n",
       "      <td>0.0</td>\n",
       "      <td>0.469</td>\n",
       "      <td>7.185</td>\n",
       "      <td>61.1</td>\n",
       "      <td>4.9671</td>\n",
       "      <td>2.0</td>\n",
       "      <td>242.0</td>\n",
       "      <td>17.8</td>\n",
       "      <td>392.83</td>\n",
       "      <td>4.03</td>\n",
       "      <td>34.7</td>\n",
       "    </tr>\n",
       "    <tr>\n",
       "      <th>3</th>\n",
       "      <td>0.03237</td>\n",
       "      <td>0.0</td>\n",
       "      <td>2.18</td>\n",
       "      <td>0.0</td>\n",
       "      <td>0.458</td>\n",
       "      <td>6.998</td>\n",
       "      <td>45.8</td>\n",
       "      <td>6.0622</td>\n",
       "      <td>3.0</td>\n",
       "      <td>222.0</td>\n",
       "      <td>18.7</td>\n",
       "      <td>394.63</td>\n",
       "      <td>2.94</td>\n",
       "      <td>33.4</td>\n",
       "    </tr>\n",
       "    <tr>\n",
       "      <th>4</th>\n",
       "      <td>0.06905</td>\n",
       "      <td>0.0</td>\n",
       "      <td>2.18</td>\n",
       "      <td>0.0</td>\n",
       "      <td>0.458</td>\n",
       "      <td>7.147</td>\n",
       "      <td>54.2</td>\n",
       "      <td>6.0622</td>\n",
       "      <td>3.0</td>\n",
       "      <td>222.0</td>\n",
       "      <td>18.7</td>\n",
       "      <td>396.90</td>\n",
       "      <td>5.33</td>\n",
       "      <td>36.2</td>\n",
       "    </tr>\n",
       "  </tbody>\n",
       "</table>\n",
       "</div>"
      ],
      "text/plain": [
       "         0     1     2    3      4      5     6       7    8      9    10  \\\n",
       "0  0.00632  18.0  2.31  0.0  0.538  6.575  65.2  4.0900  1.0  296.0  15.3   \n",
       "1  0.02731   0.0  7.07  0.0  0.469  6.421  78.9  4.9671  2.0  242.0  17.8   \n",
       "2  0.02729   0.0  7.07  0.0  0.469  7.185  61.1  4.9671  2.0  242.0  17.8   \n",
       "3  0.03237   0.0  2.18  0.0  0.458  6.998  45.8  6.0622  3.0  222.0  18.7   \n",
       "4  0.06905   0.0  2.18  0.0  0.458  7.147  54.2  6.0622  3.0  222.0  18.7   \n",
       "\n",
       "       11    12  price  \n",
       "0  396.90  4.98   24.0  \n",
       "1  396.90  9.14   21.6  \n",
       "2  392.83  4.03   34.7  \n",
       "3  394.63  2.94   33.4  \n",
       "4  396.90  5.33   36.2  "
      ]
     },
     "execution_count": 3,
     "metadata": {},
     "output_type": "execute_result"
    }
   ],
   "source": [
    "df_X = pd.DataFrame(boston['data'])\n",
    "df_y = pd.DataFrame(boston['target'])\n",
    "\n",
    "df_y = df_y.rename(columns={0: 'price'})\n",
    "df = df_X.join(df_y)\n",
    "df.head()"
   ]
  },
  {
   "cell_type": "code",
   "execution_count": 4,
   "id": "8964fe07",
   "metadata": {},
   "outputs": [
    {
     "data": {
      "text/plain": [
       "(506, 13)"
      ]
     },
     "execution_count": 4,
     "metadata": {},
     "output_type": "execute_result"
    }
   ],
   "source": [
    "df_X.shape"
   ]
  },
  {
   "cell_type": "code",
   "execution_count": 5,
   "id": "50c1ff0a",
   "metadata": {},
   "outputs": [
    {
     "data": {
      "text/html": [
       "<div>\n",
       "<style scoped>\n",
       "    .dataframe tbody tr th:only-of-type {\n",
       "        vertical-align: middle;\n",
       "    }\n",
       "\n",
       "    .dataframe tbody tr th {\n",
       "        vertical-align: top;\n",
       "    }\n",
       "\n",
       "    .dataframe thead th {\n",
       "        text-align: right;\n",
       "    }\n",
       "</style>\n",
       "<table border=\"1\" class=\"dataframe\">\n",
       "  <thead>\n",
       "    <tr style=\"text-align: right;\">\n",
       "      <th></th>\n",
       "      <th>0</th>\n",
       "      <th>1</th>\n",
       "      <th>2</th>\n",
       "      <th>3</th>\n",
       "      <th>4</th>\n",
       "      <th>5</th>\n",
       "      <th>6</th>\n",
       "      <th>7</th>\n",
       "      <th>8</th>\n",
       "      <th>9</th>\n",
       "      <th>10</th>\n",
       "      <th>11</th>\n",
       "      <th>12</th>\n",
       "      <th>13</th>\n",
       "    </tr>\n",
       "  </thead>\n",
       "  <tbody>\n",
       "    <tr>\n",
       "      <th>0</th>\n",
       "      <td>0.000013</td>\n",
       "      <td>0.035955</td>\n",
       "      <td>0.004614</td>\n",
       "      <td>0.0</td>\n",
       "      <td>0.001075</td>\n",
       "      <td>0.013134</td>\n",
       "      <td>0.130238</td>\n",
       "      <td>0.008170</td>\n",
       "      <td>0.001998</td>\n",
       "      <td>0.591265</td>\n",
       "      <td>0.030562</td>\n",
       "      <td>0.792814</td>\n",
       "      <td>0.009948</td>\n",
       "      <td>0.047940</td>\n",
       "    </tr>\n",
       "    <tr>\n",
       "      <th>1</th>\n",
       "      <td>0.000058</td>\n",
       "      <td>0.000000</td>\n",
       "      <td>0.014961</td>\n",
       "      <td>0.0</td>\n",
       "      <td>0.000992</td>\n",
       "      <td>0.013588</td>\n",
       "      <td>0.166966</td>\n",
       "      <td>0.010511</td>\n",
       "      <td>0.004232</td>\n",
       "      <td>0.512112</td>\n",
       "      <td>0.037668</td>\n",
       "      <td>0.839907</td>\n",
       "      <td>0.019342</td>\n",
       "      <td>0.045709</td>\n",
       "    </tr>\n",
       "    <tr>\n",
       "      <th>2</th>\n",
       "      <td>0.000058</td>\n",
       "      <td>0.000000</td>\n",
       "      <td>0.015133</td>\n",
       "      <td>0.0</td>\n",
       "      <td>0.001004</td>\n",
       "      <td>0.015379</td>\n",
       "      <td>0.130778</td>\n",
       "      <td>0.010632</td>\n",
       "      <td>0.004281</td>\n",
       "      <td>0.517974</td>\n",
       "      <td>0.038099</td>\n",
       "      <td>0.840809</td>\n",
       "      <td>0.008626</td>\n",
       "      <td>0.074272</td>\n",
       "    </tr>\n",
       "    <tr>\n",
       "      <th>3</th>\n",
       "      <td>0.000071</td>\n",
       "      <td>0.000000</td>\n",
       "      <td>0.004772</td>\n",
       "      <td>0.0</td>\n",
       "      <td>0.001003</td>\n",
       "      <td>0.015319</td>\n",
       "      <td>0.100257</td>\n",
       "      <td>0.013270</td>\n",
       "      <td>0.006567</td>\n",
       "      <td>0.485964</td>\n",
       "      <td>0.040935</td>\n",
       "      <td>0.863856</td>\n",
       "      <td>0.006436</td>\n",
       "      <td>0.073114</td>\n",
       "    </tr>\n",
       "    <tr>\n",
       "      <th>4</th>\n",
       "      <td>0.000150</td>\n",
       "      <td>0.000000</td>\n",
       "      <td>0.004740</td>\n",
       "      <td>0.0</td>\n",
       "      <td>0.000996</td>\n",
       "      <td>0.015539</td>\n",
       "      <td>0.117842</td>\n",
       "      <td>0.013181</td>\n",
       "      <td>0.006523</td>\n",
       "      <td>0.482675</td>\n",
       "      <td>0.040658</td>\n",
       "      <td>0.862945</td>\n",
       "      <td>0.011589</td>\n",
       "      <td>0.078707</td>\n",
       "    </tr>\n",
       "  </tbody>\n",
       "</table>\n",
       "</div>"
      ],
      "text/plain": [
       "         0         1         2    3         4         5         6         7   \\\n",
       "0  0.000013  0.035955  0.004614  0.0  0.001075  0.013134  0.130238  0.008170   \n",
       "1  0.000058  0.000000  0.014961  0.0  0.000992  0.013588  0.166966  0.010511   \n",
       "2  0.000058  0.000000  0.015133  0.0  0.001004  0.015379  0.130778  0.010632   \n",
       "3  0.000071  0.000000  0.004772  0.0  0.001003  0.015319  0.100257  0.013270   \n",
       "4  0.000150  0.000000  0.004740  0.0  0.000996  0.015539  0.117842  0.013181   \n",
       "\n",
       "         8         9         10        11        12        13  \n",
       "0  0.001998  0.591265  0.030562  0.792814  0.009948  0.047940  \n",
       "1  0.004232  0.512112  0.037668  0.839907  0.019342  0.045709  \n",
       "2  0.004281  0.517974  0.038099  0.840809  0.008626  0.074272  \n",
       "3  0.006567  0.485964  0.040935  0.863856  0.006436  0.073114  \n",
       "4  0.006523  0.482675  0.040658  0.862945  0.011589  0.078707  "
      ]
     },
     "execution_count": 5,
     "metadata": {},
     "output_type": "execute_result"
    }
   ],
   "source": [
    "df = preprocessing.normalize(df)\n",
    "\n",
    "df = pd.DataFrame(df)\n",
    "df.head()"
   ]
  },
  {
   "cell_type": "markdown",
   "id": "80f77192",
   "metadata": {},
   "source": [
    "# Data Visualization"
   ]
  },
  {
   "cell_type": "code",
   "execution_count": 6,
   "id": "4ab00717",
   "metadata": {},
   "outputs": [
    {
     "data": {
      "image/png": "[encoded data removed]",
      "text/plain": [
       "<Figure size 1296x1296 with 2 Axes>"
      ]
     },
     "metadata": {
      "needs_background": "light"
     },
     "output_type": "display_data"
    }
   ],
   "source": [
    "cor = df.corr().round(2)\n",
    "plt.figure(figsize=(18,18))\n",
    "sns.heatmap(data=cor,annot=True) #sns: seaborn\n",
    "plt.show()"
   ]
  },
  {
   "cell_type": "markdown",
   "id": "984d500f",
   "metadata": {},
   "source": [
    "# Data splitting"
   ]
  },
  {
   "cell_type": "code",
   "execution_count": 7,
   "id": "b941f8ce",
   "metadata": {},
   "outputs": [
    {
     "data": {
      "text/html": [
       "<div>\n",
       "<style scoped>\n",
       "    .dataframe tbody tr th:only-of-type {\n",
       "        vertical-align: middle;\n",
       "    }\n",
       "\n",
       "    .dataframe tbody tr th {\n",
       "        vertical-align: top;\n",
       "    }\n",
       "\n",
       "    .dataframe thead th {\n",
       "        text-align: right;\n",
       "    }\n",
       "</style>\n",
       "<table border=\"1\" class=\"dataframe\">\n",
       "  <thead>\n",
       "    <tr style=\"text-align: right;\">\n",
       "      <th></th>\n",
       "      <th>5</th>\n",
       "      <th>9</th>\n",
       "      <th>11</th>\n",
       "      <th>12</th>\n",
       "      <th>8</th>\n",
       "    </tr>\n",
       "  </thead>\n",
       "  <tbody>\n",
       "    <tr>\n",
       "      <th>0</th>\n",
       "      <td>0.013134</td>\n",
       "      <td>0.591265</td>\n",
       "      <td>0.792814</td>\n",
       "      <td>0.009948</td>\n",
       "      <td>0.001998</td>\n",
       "    </tr>\n",
       "    <tr>\n",
       "      <th>1</th>\n",
       "      <td>0.013588</td>\n",
       "      <td>0.512112</td>\n",
       "      <td>0.839907</td>\n",
       "      <td>0.019342</td>\n",
       "      <td>0.004232</td>\n",
       "    </tr>\n",
       "    <tr>\n",
       "      <th>2</th>\n",
       "      <td>0.015379</td>\n",
       "      <td>0.517974</td>\n",
       "      <td>0.840809</td>\n",
       "      <td>0.008626</td>\n",
       "      <td>0.004281</td>\n",
       "    </tr>\n",
       "    <tr>\n",
       "      <th>3</th>\n",
       "      <td>0.015319</td>\n",
       "      <td>0.485964</td>\n",
       "      <td>0.863856</td>\n",
       "      <td>0.006436</td>\n",
       "      <td>0.006567</td>\n",
       "    </tr>\n",
       "    <tr>\n",
       "      <th>4</th>\n",
       "      <td>0.015539</td>\n",
       "      <td>0.482675</td>\n",
       "      <td>0.862945</td>\n",
       "      <td>0.011589</td>\n",
       "      <td>0.006523</td>\n",
       "    </tr>\n",
       "    <tr>\n",
       "      <th>...</th>\n",
       "      <td>...</td>\n",
       "      <td>...</td>\n",
       "      <td>...</td>\n",
       "      <td>...</td>\n",
       "      <td>...</td>\n",
       "    </tr>\n",
       "    <tr>\n",
       "      <th>501</th>\n",
       "      <td>0.013624</td>\n",
       "      <td>0.564130</td>\n",
       "      <td>0.810012</td>\n",
       "      <td>0.019982</td>\n",
       "      <td>0.002066</td>\n",
       "    </tr>\n",
       "    <tr>\n",
       "      <th>502</th>\n",
       "      <td>0.012517</td>\n",
       "      <td>0.558335</td>\n",
       "      <td>0.811733</td>\n",
       "      <td>0.018570</td>\n",
       "      <td>0.002045</td>\n",
       "    </tr>\n",
       "    <tr>\n",
       "      <th>503</th>\n",
       "      <td>0.014193</td>\n",
       "      <td>0.555433</td>\n",
       "      <td>0.807514</td>\n",
       "      <td>0.011475</td>\n",
       "      <td>0.002035</td>\n",
       "    </tr>\n",
       "    <tr>\n",
       "      <th>504</th>\n",
       "      <td>0.013913</td>\n",
       "      <td>0.559045</td>\n",
       "      <td>0.805701</td>\n",
       "      <td>0.013270</td>\n",
       "      <td>0.002048</td>\n",
       "    </tr>\n",
       "    <tr>\n",
       "      <th>505</th>\n",
       "      <td>0.012324</td>\n",
       "      <td>0.557936</td>\n",
       "      <td>0.811152</td>\n",
       "      <td>0.016105</td>\n",
       "      <td>0.002044</td>\n",
       "    </tr>\n",
       "  </tbody>\n",
       "</table>\n",
       "<p>506 rows × 5 columns</p>\n",
       "</div>"
      ],
      "text/plain": [
       "           5         9         11        12        8 \n",
       "0    0.013134  0.591265  0.792814  0.009948  0.001998\n",
       "1    0.013588  0.512112  0.839907  0.019342  0.004232\n",
       "2    0.015379  0.517974  0.840809  0.008626  0.004281\n",
       "3    0.015319  0.485964  0.863856  0.006436  0.006567\n",
       "4    0.015539  0.482675  0.862945  0.011589  0.006523\n",
       "..        ...       ...       ...       ...       ...\n",
       "501  0.013624  0.564130  0.810012  0.019982  0.002066\n",
       "502  0.012517  0.558335  0.811733  0.018570  0.002045\n",
       "503  0.014193  0.555433  0.807514  0.011475  0.002035\n",
       "504  0.013913  0.559045  0.805701  0.013270  0.002048\n",
       "505  0.012324  0.557936  0.811152  0.016105  0.002044\n",
       "\n",
       "[506 rows x 5 columns]"
      ]
     },
     "execution_count": 7,
     "metadata": {},
     "output_type": "execute_result"
    }
   ],
   "source": [
    "X_new=df[[5,9,11,12,8]] # columns 5,9,11,12,,8 give most affecting feature data\n",
    "X_new"
   ]
  },
  {
   "cell_type": "code",
   "execution_count": 8,
   "id": "b76fc649",
   "metadata": {},
   "outputs": [
    {
     "name": "stdout",
     "output_type": "stream",
     "text": [
      "(404, 5)\n",
      "(102, 5)\n",
      "(404,)\n",
      "(102,)\n"
     ]
    }
   ],
   "source": [
    "Y = df[13]\n",
    "X_train, X_test, Y_train, Y_test = train_test_split(X_new,Y, test_size = 0.2, random_state=5, shuffle=True)\n",
    "print(X_train.shape)\n",
    "print(X_test.shape)\n",
    "print(Y_train.shape)\n",
    "print(Y_test.shape)"
   ]
  },
  {
   "cell_type": "markdown",
   "id": "e7fada0a",
   "metadata": {},
   "source": [
    "# Linear regression"
   ]
  },
  {
   "cell_type": "code",
   "execution_count": 9,
   "id": "7af69904",
   "metadata": {},
   "outputs": [
    {
     "data": {
      "text/plain": [
       "LinearRegression()"
      ]
     },
     "execution_count": 9,
     "metadata": {},
     "output_type": "execute_result"
    }
   ],
   "source": [
    "from sklearn.linear_model import LinearRegression\n",
    "regr = LinearRegression()\n",
    "regr.fit(X_train, Y_train) #training"
   ]
  },
  {
   "cell_type": "code",
   "execution_count": 10,
   "id": "3b0e10ea",
   "metadata": {},
   "outputs": [
    {
     "name": "stdout",
     "output_type": "stream",
     "text": [
      "102\n",
      "[0.07884965 0.06323426 0.05364095 0.00291903]\n"
     ]
    }
   ],
   "source": [
    "y_pred = regr.predict(X_test)\n",
    "\n",
    "print(len(y_pred)) \n",
    "print(y_pred[0:4])"
   ]
  },
  {
   "cell_type": "code",
   "execution_count": 11,
   "id": "ffb96a38",
   "metadata": {},
   "outputs": [
    {
     "name": "stdout",
     "output_type": "stream",
     "text": [
      "r2 socre =  0.8316806022351187\n",
      "mean_sqrd_error is=  7.045038401165326e-05\n",
      "root_mean_squared error=  0.0083934727027407\n"
     ]
    }
   ],
   "source": [
    "from sklearn.metrics import r2_score\n",
    "from sklearn.metrics import mean_squared_error\n",
    "# predicting the accuracy score\n",
    "#score=r2_score(Y_test,y_pred)\n",
    "print('r2 socre = ',r2_score(Y_test,y_pred))\n",
    "print('mean_sqrd_error is= ',mean_squared_error(Y_test,y_pred))\n",
    "print('root_mean_squared error= ',np.sqrt(mean_squared_error(Y_test,y_pred)))"
   ]
  },
  {
   "cell_type": "markdown",
   "id": "980142a8",
   "metadata": {},
   "source": [
    "# Random forest"
   ]
  },
  {
   "cell_type": "code",
   "execution_count": 12,
   "id": "d417227c",
   "metadata": {},
   "outputs": [
    {
     "data": {
      "text/plain": [
       "RandomForestRegressor(random_state=42)"
      ]
     },
     "execution_count": 12,
     "metadata": {},
     "output_type": "execute_result"
    }
   ],
   "source": [
    "from sklearn.ensemble import RandomForestRegressor\n",
    "\n",
    "model_ranfor = RandomForestRegressor(n_estimators=100, random_state=42)\n",
    "model_ranfor.fit(X_train, Y_train)"
   ]
  },
  {
   "cell_type": "code",
   "execution_count": 13,
   "id": "e346e6ff",
   "metadata": {},
   "outputs": [
    {
     "name": "stdout",
     "output_type": "stream",
     "text": [
      "102\n",
      "[0.08767654 0.06125598 0.04681348 0.01186295]\n"
     ]
    }
   ],
   "source": [
    "y_pred_ranfor = model_ranfor.predict(X_test)\n",
    "\n",
    "print(len(y_pred_ranfor)) \n",
    "print(y_pred_ranfor[0:4])"
   ]
  },
  {
   "cell_type": "code",
   "execution_count": 14,
   "id": "0e0fa07e",
   "metadata": {},
   "outputs": [
    {
     "name": "stdout",
     "output_type": "stream",
     "text": [
      "r2 socre =  0.9227547612261042\n",
      "mean_sqrd_error is=  3.2331132400404956e-05\n",
      "root_mean_squared error=  0.005686047168323963\n"
     ]
    }
   ],
   "source": [
    "print('r2 socre = ',r2_score(Y_test,y_pred_ranfor))\n",
    "print('mean_sqrd_error is= ',mean_squared_error(Y_test,y_pred_ranfor))\n",
    "print('root_mean_squared error= ',np.sqrt(mean_squared_error(Y_test,y_pred_ranfor)))"
   ]
  },
  {
   "cell_type": "markdown",
   "id": "08420d27",
   "metadata": {},
   "source": [
    "# Gradient boosting"
   ]
  },
  {
   "cell_type": "code",
   "execution_count": 15,
   "id": "48a87c40",
   "metadata": {},
   "outputs": [
    {
     "data": {
      "text/plain": [
       "GradientBoostingRegressor(random_state=42)"
      ]
     },
     "execution_count": 15,
     "metadata": {},
     "output_type": "execute_result"
    }
   ],
   "source": [
    "from sklearn.ensemble import GradientBoostingRegressor\n",
    "\n",
    "model_grad = GradientBoostingRegressor(n_estimators=100, learning_rate=0.1, random_state=42)\n",
    "model_grad.fit(X_train, Y_train)"
   ]
  },
  {
   "cell_type": "code",
   "execution_count": 16,
   "id": "b4a42ed4",
   "metadata": {},
   "outputs": [
    {
     "name": "stdout",
     "output_type": "stream",
     "text": [
      "102\n",
      "[0.08608417 0.06067959 0.04755651 0.00914989]\n"
     ]
    }
   ],
   "source": [
    "y_pred_grad = model_grad.predict(X_test)\n",
    "\n",
    "print(len(y_pred_grad)) \n",
    "print(y_pred_grad[0:4])"
   ]
  },
  {
   "cell_type": "code",
   "execution_count": 17,
   "id": "2b432362",
   "metadata": {},
   "outputs": [
    {
     "name": "stdout",
     "output_type": "stream",
     "text": [
      "r2 socre =  0.9279484314239591\n",
      "mean_sqrd_error is=  3.015731247989968e-05\n",
      "root_mean_squared error=  0.005491567397373875\n"
     ]
    }
   ],
   "source": [
    "print('r2 socre = ',r2_score(Y_test,y_pred_grad))\n",
    "print('mean_sqrd_error is= ',mean_squared_error(Y_test,y_pred_grad))\n",
    "print('root_mean_squared error= ',np.sqrt(mean_squared_error(Y_test,y_pred_grad)))"
   ]
  },
  {
   "cell_type": "markdown",
   "id": "62c3c76f",
   "metadata": {},
   "source": [
    "# KNN"
   ]
  },
  {
   "cell_type": "code",
   "execution_count": 18,
   "id": "3656a534",
   "metadata": {},
   "outputs": [
    {
     "data": {
      "text/plain": [
       "KNeighborsRegressor()"
      ]
     },
     "execution_count": 18,
     "metadata": {},
     "output_type": "execute_result"
    }
   ],
   "source": [
    "from sklearn.neighbors import KNeighborsRegressor\n",
    "\n",
    "model_knn = KNeighborsRegressor(n_neighbors=5)\n",
    "model_knn.fit(X_train, Y_train)"
   ]
  },
  {
   "cell_type": "code",
   "execution_count": 19,
   "id": "effc93e3",
   "metadata": {},
   "outputs": [
    {
     "name": "stdout",
     "output_type": "stream",
     "text": [
      "102\n",
      "[0.07920412 0.06040545 0.041112   0.01120715]\n"
     ]
    }
   ],
   "source": [
    "y_pred_knn = model_knn.predict(X_test)\n",
    "\n",
    "print(len(y_pred_knn)) \n",
    "print(y_pred_knn[0:4])"
   ]
  },
  {
   "cell_type": "code",
   "execution_count": 20,
   "id": "adb8914c",
   "metadata": {},
   "outputs": [
    {
     "name": "stdout",
     "output_type": "stream",
     "text": [
      "r2 socre =  0.7883006889089784\n",
      "mean_sqrd_error is=  8.860712407133318e-05\n",
      "root_mean_squared error=  0.009413135719372858\n"
     ]
    }
   ],
   "source": [
    "print('r2 socre = ',r2_score(Y_test,y_pred_knn))\n",
    "print('mean_sqrd_error is= ',mean_squared_error(Y_test,y_pred_knn))\n",
    "print('root_mean_squared error= ',np.sqrt(mean_squared_error(Y_test,y_pred_knn)))"
   ]
  },
  {
   "cell_type": "markdown",
   "id": "221e3c0a",
   "metadata": {},
   "source": [
    "# Evaluation"
   ]
  },
  {
   "cell_type": "code",
   "execution_count": 21,
   "id": "5d55f4ed",
   "metadata": {},
   "outputs": [
    {
     "data": {
      "text/html": [
       "<div>\n",
       "<style scoped>\n",
       "    .dataframe tbody tr th:only-of-type {\n",
       "        vertical-align: middle;\n",
       "    }\n",
       "\n",
       "    .dataframe tbody tr th {\n",
       "        vertical-align: top;\n",
       "    }\n",
       "\n",
       "    .dataframe thead th {\n",
       "        text-align: right;\n",
       "    }\n",
       "</style>\n",
       "<table border=\"1\" class=\"dataframe\">\n",
       "  <thead>\n",
       "    <tr style=\"text-align: right;\">\n",
       "      <th></th>\n",
       "      <th>Actual</th>\n",
       "      <th>lin_reg_Predicted</th>\n",
       "      <th>ran_forest_predicted</th>\n",
       "      <th>gradient_boosting_predicted</th>\n",
       "      <th>knn_predicted</th>\n",
       "    </tr>\n",
       "  </thead>\n",
       "  <tbody>\n",
       "    <tr>\n",
       "      <th>226</th>\n",
       "      <td>0.074650</td>\n",
       "      <td>0.078850</td>\n",
       "      <td>0.087677</td>\n",
       "      <td>0.086084</td>\n",
       "      <td>0.079204</td>\n",
       "    </tr>\n",
       "    <tr>\n",
       "      <th>292</th>\n",
       "      <td>0.058716</td>\n",
       "      <td>0.063234</td>\n",
       "      <td>0.061256</td>\n",
       "      <td>0.060680</td>\n",
       "      <td>0.060405</td>\n",
       "    </tr>\n",
       "    <tr>\n",
       "      <th>90</th>\n",
       "      <td>0.046916</td>\n",
       "      <td>0.053641</td>\n",
       "      <td>0.046813</td>\n",
       "      <td>0.047557</td>\n",
       "      <td>0.041112</td>\n",
       "    </tr>\n",
       "    <tr>\n",
       "      <th>373</th>\n",
       "      <td>0.017612</td>\n",
       "      <td>0.002919</td>\n",
       "      <td>0.011863</td>\n",
       "      <td>0.009150</td>\n",
       "      <td>0.011207</td>\n",
       "    </tr>\n",
       "    <tr>\n",
       "      <th>273</th>\n",
       "      <td>0.077315</td>\n",
       "      <td>0.078071</td>\n",
       "      <td>0.095548</td>\n",
       "      <td>0.089833</td>\n",
       "      <td>0.066445</td>\n",
       "    </tr>\n",
       "  </tbody>\n",
       "</table>\n",
       "</div>"
      ],
      "text/plain": [
       "       Actual  lin_reg_Predicted  ran_forest_predicted  \\\n",
       "226  0.074650           0.078850              0.087677   \n",
       "292  0.058716           0.063234              0.061256   \n",
       "90   0.046916           0.053641              0.046813   \n",
       "373  0.017612           0.002919              0.011863   \n",
       "273  0.077315           0.078071              0.095548   \n",
       "\n",
       "     gradient_boosting_predicted  knn_predicted  \n",
       "226                     0.086084       0.079204  \n",
       "292                     0.060680       0.060405  \n",
       "90                      0.047557       0.041112  \n",
       "373                     0.009150       0.011207  \n",
       "273                     0.089833       0.066445  "
      ]
     },
     "execution_count": 21,
     "metadata": {},
     "output_type": "execute_result"
    }
   ],
   "source": [
    "val_df = pd.DataFrame({'Actual': Y_test, 'lin_reg_Predicted': y_pred, 'ran_forest_predicted':y_pred_ranfor, \n",
    "                       'gradient_boosting_predicted':y_pred_grad, 'knn_predicted':y_pred_knn})\n",
    "val_df.head()"
   ]
  },
  {
   "cell_type": "code",
   "execution_count": 22,
   "id": "b2722a48",
   "metadata": {},
   "outputs": [
    {
     "data": {
      "image/png": "[encoded data removed]",
      "text/plain": [
       "<Figure size 1296x576 with 1 Axes>"
      ]
     },
     "metadata": {
      "needs_background": "light"
     },
     "output_type": "display_data"
    }
   ],
   "source": [
    "df1 = val_df.head(25)\n",
    "df1.plot(kind='bar',figsize=(18,8))\n",
    "plt.grid(which='major', linestyle='-', linewidth='0.5', color='green')# display grid lines for clarity\n",
    "\n",
    "plt.show()"
   ]
  }
 ],
 "metadata": {
  "kernelspec": {
   "display_name": "Python 3 (ipykernel)",
   "language": "python",
   "name": "python3"
  },
  "language_info": {
   "codemirror_mode": {
    "name": "ipython",
    "version": 3
   },
   "file_extension": ".py",
   "mimetype": "text/x-python",
   "name": "python",
   "nbconvert_exporter": "python",
   "pygments_lexer": "ipython3",
   "version": "3.9.7"
  }
 },
 "nbformat": 4,
 "nbformat_minor": 5
}
